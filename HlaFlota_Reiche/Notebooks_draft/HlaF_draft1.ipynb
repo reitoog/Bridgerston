{
 "cells": [
  {
   "cell_type": "code",
   "execution_count": 24,
   "metadata": {},
   "outputs": [
    {
     "name": "stdout",
     "output_type": "stream",
     "text": [
      "[[' ' ' ' ' ' ' ' ' ' ' ' ' ' ' ' ' ' ' ']\n",
      " [' ' ' ' ' ' ' ' ' ' ' ' ' ' ' ' ' ' ' ']\n",
      " [' ' ' ' ' ' ' ' ' ' ' ' ' ' ' ' ' ' ' ']\n",
      " [' ' ' ' ' ' ' ' ' ' ' ' ' ' ' ' ' ' ' ']\n",
      " [' ' ' ' ' ' ' ' ' ' ' ' ' ' ' ' ' ' ' ']\n",
      " [' ' ' ' ' ' ' ' ' ' ' ' ' ' ' ' ' ' ' ']\n",
      " [' ' ' ' ' ' ' ' ' ' ' ' ' ' ' ' ' ' ' ']\n",
      " [' ' ' ' ' ' ' ' ' ' ' ' ' ' ' ' ' ' ' ']\n",
      " [' ' ' ' ' ' ' ' ' ' ' ' ' ' ' ' ' ' ' ']\n",
      " [' ' ' ' ' ' ' ' ' ' ' ' ' ' ' ' ' ' ' ']]\n"
     ]
    }
   ],
   "source": [
    "import numpy as np\n",
    "\n",
    "tablero=np.full((10,10),' ')\n",
    "print(tablero)"
   ]
  },
  {
   "cell_type": "code",
   "execution_count": 27,
   "metadata": {},
   "outputs": [],
   "source": [
    "tablero[3,3:7]='X' #Para fijar la horizontalmente\n",
    "tablero[5:8,2]='O' #Para fijar la verticalmente\n",
    "tablero[1,3]='*'   #Disparo\n",
    "tablero[7,7]='@'   #Agua"
   ]
  },
  {
   "cell_type": "code",
   "execution_count": 28,
   "metadata": {},
   "outputs": [
    {
     "data": {
      "text/plain": [
       "array([[' ', ' ', ' ', ' ', ' ', ' ', ' ', ' ', ' ', ' '],\n",
       "       [' ', ' ', ' ', '*', ' ', ' ', ' ', ' ', ' ', ' '],\n",
       "       [' ', ' ', ' ', ' ', ' ', ' ', ' ', ' ', ' ', ' '],\n",
       "       [' ', ' ', ' ', 'X', 'X', 'X', 'X', ' ', ' ', ' '],\n",
       "       [' ', ' ', ' ', ' ', ' ', ' ', ' ', ' ', ' ', ' '],\n",
       "       [' ', ' ', 'O', ' ', ' ', ' ', ' ', ' ', ' ', ' '],\n",
       "       [' ', ' ', 'O', ' ', ' ', ' ', ' ', ' ', ' ', ' '],\n",
       "       [' ', ' ', 'O', ' ', ' ', ' ', ' ', '@', ' ', ' '],\n",
       "       [' ', ' ', ' ', ' ', ' ', ' ', ' ', ' ', ' ', ' '],\n",
       "       [' ', ' ', ' ', ' ', ' ', ' ', ' ', ' ', ' ', ' ']], dtype='<U1')"
      ]
     },
     "execution_count": 28,
     "metadata": {},
     "output_type": "execute_result"
    }
   ],
   "source": [
    "tablero"
   ]
  },
  {
   "cell_type": "code",
   "execution_count": 29,
   "metadata": {},
   "outputs": [],
   "source": [
    "  current_pos = np.random.randint(10, size = 2)"
   ]
  },
  {
   "cell_type": "code",
   "execution_count": 31,
   "metadata": {},
   "outputs": [
    {
     "name": "stdout",
     "output_type": "stream",
     "text": [
      "[5 8]\n"
     ]
    }
   ],
   "source": [
    "\n",
    "print(current_pos)"
   ]
  },
  {
   "cell_type": "code",
   "execution_count": null,
   "metadata": {},
   "outputs": [],
   "source": [
    "\"\"\"     \n",
    "\n",
    "While (numero de posiciones de barco tocadas hombre != total posiciones de barcos) or (numero de posiciones de barco tocadas hombre != total posiciones de barcos) \n",
    "       or (Variable de salida del juego == True) # FUNCION PERDER 8\n",
    "\n",
    "       print('Mensaje de bienvenida')\n",
    "       print('Mensaje con las instrucciones')\n",
    "       print('Menu de opciones ): \n",
    "                            #Opcion 1:Crear barcos aleatorios                                  # FUNCION 11 colocar barco\n",
    "                            #Opcion 2:Crear barcos manual                                      # FUNCION 11 colocar barco\n",
    "                            #Opción 3: Solicita las coordenadas: x[input], y [input]-->N S E O # FUNCION 11 colocar barco  ##Funcion 3 Posicione barcos\n",
    "                            #Opción 4: Nivel de dificultad \n",
    "                            #Opción 5: Jugar\n",
    "                            #(Todavía no contemplo como) Da la opción de Salir ?¿??\n",
    "\n",
    "      Crear tablero ## Funcion2 Crear tableros \n",
    "        \n",
    "        Print( Mostrar por pantalla las 4 pantallas  2 jugador1 -persona  y  2 jugador 2 -maquina  ##Funcion 1 Inicia el juego Crear tablero ## Funcion2 Crear tableros \n",
    "             Jugador 1-->tiene en la  pantalla1 con sus barcos, donde puede veer los que le han dado, y una pantalla 2 donde vera los que ha acertado él \n",
    "                        ##Funcion 4 Propio impacto ## FUNCION 7 buscar coordenadad(disparo)\n",
    "             Jugador 2 (maquina)-->tiene en la  pantalla3 con sus barcos, donde puede veer los que le han dado, y una pantalla 4 donde vera los que ha acertado él\n",
    "                        ##Funcion 4 Propio impacto ## FUNCION 7 buscar coordenadad(disparo)\n",
    "             Inicialmente tomaremos la opcion 2 de juego que es con los barcos en manual , donde  simularemos y posicionaremos nosotros a modo prueba los barcos \n",
    "             para ver que todo sale bien por pantalla \n",
    "\n",
    "             A PARTIR DE AQUI YA EMPEZARÍA EL JUEGO ...\n",
    "             _______________________________________________________________________\n",
    "\n",
    "             \n",
    "    Jugador 1 (Persona )--> Dispara (aleatoriamente o no)# FUNCION 10 Turno maquina # Obtiene x: Alteatoria \n",
    "                         acierta (SI): entonces marca como disparo acertado ,modifica el marcador y repite disparo ( Asegurate de tener ya la opcion de salida aqui)\n",
    "                                        ##Funcion 4 Propio impacto ## FUNCION 7 buscar coordenadad(disparo)## FUNCION verificar_barco_hundido\n",
    "                         acierta (NO): entonces marca como disparo no acertado y cambia turno a Jugador 2 (máquina) \n",
    "                                        ##Funcion 4 Propio impacto ## FUNCION 7 buscar coordenadad(disparo) ## FUNCION verificar_barco_hundido\n",
    "    Jugador 2 (Maquina)--> Dispara (aleatoriamente o no)# FUNCION 10 Turno maquina # Obtiene x: Alteatoria \n",
    "                         acierta (SI): entonces marca como disparo acertado y repite disparo\n",
    "                         acierta (NO): entonces marca como disparo no acertado y cambia turno a Jugador 1 (hombre)\n",
    "\n",
    "    Almacenar en una lista las posiciones de cada barco así cuando el numero de posiciones de barcos jugador 1 coincidan con el numero de disparos acertados por \n",
    "    jugador 2 el juego finalizara(Game over indicando quien ha sido el ganador de la partida)# FUNCION PERDER 8\n",
    "\n",
    "    Y al contrario, cuando el numero de posiciones de barcos jugador 2 coincidan con el numero de disparos acertados por \n",
    "    jugador 1 el juego finalizará.(Game over indicando quien ha sido el ganador de la partida)# FUNCION PERDER 8\n",
    "\n",
    "          ______________________________________________________________________________\n",
    "\n",
    "          Hacer una version modificada donde se incluya la aleatoriedad de los disparos\n",
    "\n",
    "          _______________________________________________________________________________\n",
    "\n",
    "          Hacer una version modificada donde se implemente el  nivel de dificultad  \n",
    "         __________________________________________________________________________________\n",
    "\n",
    "         Hacer una version modificada donde se oculten el tablero de la maquina hasta el final \n",
    "        _______________________________________________________________________________________  \n",
    "\n",
    "FUNCIONES\n",
    "        \n",
    "# FUNCION 1 que inicie el juego: (ELSA)\n",
    "# FUNCION 2 Cree tableros (ELSA)\n",
    "# FUNCION 3 Posicione barcos (ELSA)\n",
    "# FUNCION 4 Cree arrays(4 (propio, impactos *2)) (ELSA)\n",
    "\n",
    "# FUNCION 5  Salir Que compruebe si el jugador quiere salir o no del juego: (ELSA)\n",
    "    #Mensaje de despedida\n",
    "\n",
    "# FUNCION 6 que  verifique que el ingreso del usuario sea un número en un range(1,10).(LEN1)??(REICHE)\n",
    "\n",
    "# FUNCION 7 buscar coordenadad(disparo)(REICHE)\n",
    "    #Solicita las coordenadas: x[input], y [input] y verifica que sea correcto\n",
    "    #Agua: pierde turno: marca en el tablero\n",
    "    #Barco: marca tablero, otro turno\n",
    "\n",
    "# FUNCION PERDER 8(REICHE)\n",
    "\n",
    "# FUNCION 9 verificar_barco_hundido :(REICHE)\n",
    "    \n",
    "# FUNCION 10    Turno maquina (REICHE)\n",
    "    # Obtiene x: Alteatoria  y = Alteatoria Random, randint \n",
    "\n",
    "# FUNCION 11 colocar barco   (REICHE)\n",
    "\n",
    "\"\"\""
   ]
  }
 ],
 "metadata": {
  "kernelspec": {
   "display_name": "Python 3",
   "language": "python",
   "name": "python3"
  },
  "language_info": {
   "codemirror_mode": {
    "name": "ipython",
    "version": 3
   },
   "file_extension": ".py",
   "mimetype": "text/x-python",
   "name": "python",
   "nbconvert_exporter": "python",
   "pygments_lexer": "ipython3",
   "version": "3.12.0"
  }
 },
 "nbformat": 4,
 "nbformat_minor": 2
}
