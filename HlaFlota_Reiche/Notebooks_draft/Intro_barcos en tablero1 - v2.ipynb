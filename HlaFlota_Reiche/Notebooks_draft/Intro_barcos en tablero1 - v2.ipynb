{
 "cells": [
  {
   "cell_type": "code",
   "execution_count": 26,
   "metadata": {},
   "outputs": [
    {
     "data": {
      "text/plain": [
       "array([[' ', ' ', ' ', ' ', ' ', ' ', ' ', ' ', ' ', ' '],\n",
       "       [' ', ' ', ' ', ' ', ' ', ' ', ' ', ' ', ' ', ' '],\n",
       "       [' ', ' ', ' ', ' ', 'O', 'O', ' ', ' ', ' ', ' '],\n",
       "       [' ', ' ', ' ', ' ', ' ', ' ', ' ', ' ', ' ', ' '],\n",
       "       [' ', ' ', ' ', ' ', ' ', ' ', ' ', ' ', ' ', ' '],\n",
       "       [' ', ' ', ' ', ' ', ' ', ' ', ' ', ' ', ' ', ' '],\n",
       "       [' ', ' ', ' ', ' ', ' ', ' ', ' ', ' ', ' ', ' '],\n",
       "       [' ', ' ', ' ', ' ', ' ', ' ', ' ', ' ', ' ', ' '],\n",
       "       [' ', ' ', ' ', ' ', ' ', ' ', 'O', ' ', ' ', ' '],\n",
       "       [' ', ' ', ' ', ' ', ' ', ' ', ' ', ' ', ' ', ' ']], dtype='<U1')"
      ]
     },
     "execution_count": 26,
     "metadata": {},
     "output_type": "execute_result"
    }
   ],
   "source": [
    "#COMO INTRODUCIR LOS BARCOS EN TABLERO 1\n",
    "\n",
    "#print ('Dime los barcos que quieres introducir en el tablero. \\nLas opciones son: \\n\\tb4-> 1 Barco de 4 posiciones\\n\\tb3-> 2 Barcos de 3 posiciones\\n\\tb2-> 3 Barcos de 2 posiciones\\n\\tb1-> 4 Barcos de 1 posicion')\n",
    "#eslora = 4\n",
    "\n",
    "import numpy as np\n",
    "import random\n",
    "\n",
    "seq=range(1,5)\n",
    "\n",
    "tablero = np.full(fill_value = ' ', shape = (10, 10))\n",
    "#tablero[0:2, 1] = 'O'\n",
    "\n",
    "for n in seq: #Aqui pone  1 vez barco 4, 1 vez barco 3,2  \n",
    "    barcos_rep=5-n\n",
    "    \n",
    "    while True and (barcos_rep>=1):\n",
    "        eslora = n\n",
    "                        # 'N' - 'S' - 'E' - 'O'\n",
    "        orient = random.choice(['N', 'S', 'E', 'O'])\n",
    "\n",
    "                # Posicion inicial del barco\n",
    "        current_pos = np.random.randint(10, size = 2)  #Esto me genera un array unidimensional de 2 elementos con mumero aleatorios del 0 al 9\n",
    "                                                       #Ejemplo [9,5] --> current_pos me da el punto donde quiero insertar el barco\n",
    "        fila = current_pos[0]                      #Aqui lo que hago es descomponer el punto de insercion en fila y col\n",
    "        col = current_pos[1]\n",
    "        \n",
    "        # Recogemos las 4 posiciones colindantes a current_pos -->CASO PARA 4 POSICIONES!!\n",
    "        coors_posiN = tablero[fila:fila - eslora:-1, col] #Aquí vamos a colocar el barco de 4 posiciones en POSICION NORTE \n",
    "        coors_posiE = tablero[fila, col: col + eslora]     #Para el caso de [9,5] coors_posiN = tablero[fila:fila - es lora:-1, col] sería:\n",
    "        coors_posiS = tablero[fila:fila + eslora, col]     #coors_posiN=tablero[9:9-4:-1,5]-->Fila:'start' en 9 , 'Stop' en 5 y baja de -1 en -1 y\n",
    "        coors_posiO = tablero[fila, col: col - eslora:-1]  #la Columna se mantiene fija en 5. El efecto sería como... elegido un punto bajas SUBES en | VERTICAL\n",
    "                                      \n",
    "                                                           #ESTE: Efecto.. elige un punto y colocamos el barco hacia la derecha en -- HORIZONTAL\n",
    "                                                           #SUR: El efecto sería como... elegido un punto bajas BAJAS en | VERTICAL\n",
    "                                                           #OESTE: Efecto.. elige un punto y colocamos el barco hacia la derecha IZQUIERDA  en -- HORIZONTAL\n",
    "\n",
    "        # Comprobamos si esas posiciones son validas\n",
    "        # Orientacion Norte\n",
    "        if orient == 'N' and 0 <= fila - eslora < 10 and 'O' not in coors_posiN:\n",
    "            tablero[fila:fila - eslora:-1, col] = 'O'\n",
    "            break\n",
    "\n",
    "        # Orientacion Este\n",
    "        elif orient == 'E' and 0 <= col + eslora < 10 and 'O' not in coors_posiE:\n",
    "            tablero[fila, col: col + eslora] = 'O'\n",
    "            break\n",
    "\n",
    "        # Orientacion Sur\n",
    "        elif orient == 'S' and 0 <= fila + eslora < 10 and 'O' not in coors_posiS:\n",
    "            tablero[fila:fila + eslora, col] = 'O'\n",
    "            break\n",
    "\n",
    "        # Orientacion Oeste\n",
    "        elif orient == 'O' and 0 <= col - eslora < 10 and 'O' not in coors_posiO:\n",
    "            tablero[fila, col: col - eslora:-1] = 'O'\n",
    "            break\n",
    "        \n",
    "        barcos_rep = barcos_rep-1\n",
    "    # No cumple con las dimensiones del tablero, o hay un barco ahi\n",
    "    # Probamos con otra coordenada\n",
    "    else:\n",
    "        continue     \n",
    "tablero\n",
    "\n",
    "\n",
    "#Disparo (ideas)\n",
    "\n",
    "#disparo=np.randint(10,size=2)\n",
    "#dfila=actual_disp[0]\n",
    "#dcol=actual_disp[1]\n",
    "#if dfila=fila,dcol=col: (Mirar como pasar por el if la posiciones de todos los barcos del tablero)   \n",
    "#    posiciones de barco sin tocar=numero total de posciones de barco -1 (Marcador)\n",
    "#    print ('X') en el tablero \n",
    "#    Mirar aqui las condiciones de salida del juego \n",
    "#Mirar como queda colocacion en la barcos y disparos para los 4 tableros "
   ]
  }
 ],
 "metadata": {
  "kernelspec": {
   "display_name": "Python 3",
   "language": "python",
   "name": "python3"
  },
  "language_info": {
   "codemirror_mode": {
    "name": "ipython",
    "version": 3
   },
   "file_extension": ".py",
   "mimetype": "text/x-python",
   "name": "python",
   "nbconvert_exporter": "python",
   "pygments_lexer": "ipython3",
   "version": "3.12.0"
  }
 },
 "nbformat": 4,
 "nbformat_minor": 2
}
